{
 "cells": [
  {
   "cell_type": "markdown",
   "metadata": {},
   "source": [
    "### Задание 1"
   ]
  },
  {
   "cell_type": "code",
   "execution_count": 3,
   "metadata": {},
   "outputs": [
    {
     "name": "stdout",
     "output_type": "stream",
     "text": [
      "Результат:\n",
      "Фразы равной длины\n"
     ]
    }
   ],
   "source": [
    "Phrase_1 = 'Насколько проще было бы писать программы, если бы не заказчики'\n",
    "Phrase_2 = 'Насколько проще было бы писать программы, если бы не заказчики'\n",
    "print('Результат:')\n",
    "if Phrase_1 > Phrase_2:\n",
    "    print('Фраза 1 длинее фразы 2')\n",
    "elif Phrase_1 < Phrase_2:\n",
    "    print('Фраза 2 длинее фразы 1')\n",
    "elif Phrase_1 == Phrase_2:\n",
    "    print('Фразы равной длины')"
   ]
  },
  {
   "cell_type": "markdown",
   "metadata": {},
   "source": [
    "### Задание 2"
   ]
  },
  {
   "cell_type": "code",
   "execution_count": 4,
   "metadata": {},
   "outputs": [
    {
     "name": "stdout",
     "output_type": "stream",
     "text": [
      "Введите год: 2017\n",
      "Результат: Обычный год\n"
     ]
    }
   ],
   "source": [
    "y = int(input('Введите год: '))\n",
    "if y % 4 != 0:\n",
    "    print('Результат: Обычный год')\n",
    "elif y % 100 == 0:\n",
    "    if y % 400 == 0:\n",
    "        print('Результат: Високосный год')\n",
    "    else:\n",
    "        print('Результат: Обычный год')\n",
    "else:\n",
    "    print('Результат: Високосный год')"
   ]
  },
  {
   "cell_type": "markdown",
   "metadata": {},
   "source": [
    "### Задание 3"
   ]
  },
  {
   "cell_type": "code",
   "execution_count": 5,
   "metadata": {},
   "outputs": [
    {
     "name": "stdout",
     "output_type": "stream",
     "text": [
      "Введите ваш день рождения:05\n",
      "Введите месяц вашего рождения:08\n",
      "Введите год вашего рождения:1990\n",
      "Ваш знак зодиака: Лев\n"
     ]
    }
   ],
   "source": [
    "date = int(input('Введите ваш день рождения:'))\n",
    "month = int(input('Введите месяц вашего рождения:'))\n",
    "year = int(input('Введите год вашего рождения:'))\n",
    "                 \n",
    "if (date >= 21 and date <= 31 and month == 3) or (month == 4 and date >= 1 and date <= 19):\n",
    "                 print('Ваш знак зодиака: Овен')\n",
    "elif (date >= 20 and date <= 30 and month == 4) or (month == 5 and date >= 1 and date <= 20):\n",
    "                 print('Ваш знак зодиака: Телец')\n",
    "elif (date >= 21 and date <= 31 and month==5) or (month == 6 and date >= 1 and date <= 21):\n",
    "                 print('Ваш знак зодиака: Близнецы')\n",
    "elif (date >= 22 and date<=30 and month == 6) or (month == 7 and date >= 1 and date <= 22):\n",
    "                 print('Ваш знак зодиака: Рак')\n",
    "elif (date >= 23 and date <= 31 and month == 7) or (month == 8 and date >= 1 and date <= 22):\n",
    "                 print('Ваш знак зодиака: Лев')\n",
    "elif (date >= 23 and date <= 31 and month == 8) or (month == 9 and date >= 1 and date <= 22):\n",
    "                 print('Ваш знак зодиака: Дева')\n",
    "elif (date >= 23 and date <= 30 and month == 9) or (month == 10 and date >= 1 and date <= 23):\n",
    "                 print('Ваш знак зодиака: Весы')\n",
    "elif (date >= 24 and date <= 31 and month==10) or (month == 11 and date >= 1 and date <= 22):\n",
    "                 print('Ваш знак зодиака: Скорпион')\n",
    "elif (date >= 23 and date <= 30 and month==11) or (month == 12 and date>=1 and date <= 21):\n",
    "                 print('Ваш знак зодиака: Стрелец')\n",
    "elif (date >= 22 and date <= 31 and month == 12) or (month==1 and date >= 1 and date <= 20):\n",
    "                 print('Ваш знак зодиака: Козерог')\n",
    "elif (date >= 21 and date <= 31 and month == 1) or (month == 2 and date >= 1 and date <= 18):\n",
    "                 print('Ваш знак зодиака: Водолей')\n",
    "elif (date >= 19 and date <= 29 and month == 2) or (month == 3 and date >= 1 and date <= 20):\n",
    "                 print('Ваш знак зодиака: Рыбы')"
   ]
  },
  {
   "cell_type": "markdown",
   "metadata": {},
   "source": [
    "### Задание 4"
   ]
  },
  {
   "cell_type": "code",
   "execution_count": 10,
   "metadata": {},
   "outputs": [
    {
     "name": "stdout",
     "output_type": "stream",
     "text": [
      "Ведите ширину: 10\n",
      "Ведите длину: 201\n",
      "Ведите высоту: 10\n",
      "Вам нужна упаковка для лыж\n"
     ]
    }
   ],
   "source": [
    "width = int(input('Ведите ширину: '))\n",
    "length = int(input('Ведите длину: '))\n",
    "height = int(input('Ведите высоту: '))\n",
    "if width < 15 and length < 15 and height < 15:\n",
    "    print('Вам нужна коробка №1')  \n",
    "elif (width > 15 and width < 50) or (height > 15 and height < 50) or (length > 15 and length < 50):\n",
    "    print('Вам нужна коробка №2')\n",
    "elif (length > 200):\n",
    "    print('Вам нужна упаковка для лыж')\n",
    "else:\n",
    "    print('Вам нужна стандартная коробка №3')"
   ]
  }
 ],
 "metadata": {
  "kernelspec": {
   "display_name": "Python 3",
   "language": "python",
   "name": "python3"
  },
  "language_info": {
   "codemirror_mode": {
    "name": "ipython",
    "version": 3
   },
   "file_extension": ".py",
   "mimetype": "text/x-python",
   "name": "python",
   "nbconvert_exporter": "python",
   "pygments_lexer": "ipython3",
   "version": "3.8.3"
  }
 },
 "nbformat": 4,
 "nbformat_minor": 4
}
